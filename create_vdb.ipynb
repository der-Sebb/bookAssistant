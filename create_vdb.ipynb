{
 "cells": [
  {
   "cell_type": "markdown",
   "metadata": {},
   "source": [
    "## Create persistent vector database"
   ]
  },
  {
   "cell_type": "code",
   "execution_count": 1,
   "metadata": {},
   "outputs": [],
   "source": [
    "import chromadb\n",
    "import pandas as pd\n",
    "from tqdm import tqdm"
   ]
  },
  {
   "cell_type": "code",
   "execution_count": 2,
   "metadata": {},
   "outputs": [],
   "source": [
    "persistentClient = chromadb.PersistentClient(path=\"book_vec_db\")"
   ]
  },
  {
   "cell_type": "code",
   "execution_count": 3,
   "metadata": {},
   "outputs": [],
   "source": [
    "books_collection = persistentClient.create_collection( name=\"books\", \n",
    "       metadata={\"hnsw:space\": \"cosine\"}\n",
    ")\n",
    "#books_collection = persistentClient.get_collection(\"books\")"
   ]
  },
  {
   "cell_type": "code",
   "execution_count": 4,
   "metadata": {},
   "outputs": [],
   "source": [
    "book_df = pd.read_csv(\"./dataset.csv\", on_bad_lines=\"skip\", encoding=\"latin-1\")"
   ]
  },
  {
   "cell_type": "code",
   "execution_count": 5,
   "metadata": {},
   "outputs": [
    {
     "data": {
      "text/plain": [
       "Index(['authors', 'bestsellers-rank', 'categories', 'description',\n",
       "       'dimension-x', 'dimension-y', 'dimension-z', 'edition',\n",
       "       'edition-statement', 'for-ages', 'format', 'id', 'illustrations-note',\n",
       "       'image-checksum', 'image-path', 'image-url', 'imprint', 'index-date',\n",
       "       'isbn10', 'isbn13', 'lang', 'publication-date', 'publication-place',\n",
       "       'rating-avg', 'rating-count', 'title', 'url', 'weight'],\n",
       "      dtype='object')"
      ]
     },
     "execution_count": 5,
     "metadata": {},
     "output_type": "execute_result"
    }
   ],
   "source": [
    "book_df.columns"
   ]
  },
  {
   "cell_type": "code",
   "execution_count": 7,
   "metadata": {},
   "outputs": [
    {
     "name": "stderr",
     "output_type": "stream",
     "text": [
      "100%|██████████| 11093/11093 [5:04:59<00:00,  1.65s/it] \n"
     ]
    }
   ],
   "source": [
    "batch_size = 100\n",
    "for i in tqdm(range(len(book_df)//batch_size)):\n",
    "    current_i = i * batch_size\n",
    "    title_frame = book_df.iloc[current_i:current_i+batch_size][\"title\"].copy()\n",
    "    metadata_frame = book_df.iloc[current_i:current_i+batch_size].loc[:, [\"authors\", \"for-ages\", \"publication-date\", \"description\"]].copy()\n",
    "    id_frame = book_df.iloc[current_i:current_i+batch_size][\"isbn13\"].astype(str).copy()\n",
    "    books_collection.add(\n",
    "        documents=title_frame.to_list(),\n",
    "        metadatas=metadata_frame.to_dict(orient=\"records\"),\n",
    "        ids=id_frame.to_list()\n",
    "    )"
   ]
  },
  {
   "cell_type": "code",
   "execution_count": 9,
   "metadata": {},
   "outputs": [
    {
     "name": "stdout",
     "output_type": "stream",
     "text": [
      "[['Soldier', 'Soldier', 'The Soldier']]\n"
     ]
    }
   ],
   "source": [
    "results = books_collection.query(query_texts=[\"Soldier\"], n_results=3)\n",
    "print(results[\"documents\"])"
   ]
  },
  {
   "cell_type": "code",
   "execution_count": null,
   "metadata": {},
   "outputs": [],
   "source": []
  }
 ],
 "metadata": {
  "kernelspec": {
   "display_name": "llmCommerce",
   "language": "python",
   "name": "python3"
  },
  "language_info": {
   "codemirror_mode": {
    "name": "ipython",
    "version": 3
   },
   "file_extension": ".py",
   "mimetype": "text/x-python",
   "name": "python",
   "nbconvert_exporter": "python",
   "pygments_lexer": "ipython3",
   "version": "3.12.4"
  }
 },
 "nbformat": 4,
 "nbformat_minor": 2
}
